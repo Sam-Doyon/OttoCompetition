{
 "cells": [
  {
   "cell_type": "code",
   "execution_count": 1,
   "metadata": {},
   "outputs": [],
   "source": [
    "import pandas as pd\n",
    "pd.options.mode.chained_assignment = None\n",
    "import numpy as np\n",
    "import polars as pl\n",
    "import os\n",
    "import random\n",
    "\n",
    "from plotly import express as px"
   ]
  },
  {
   "cell_type": "code",
   "execution_count": 2,
   "metadata": {},
   "outputs": [],
   "source": [
    "train, test = pd.read_parquet(os.getcwd() + \"\\\\data\\\\train.pqt\"), pd.read_parquet(os.getcwd() + \"\\\\data\\\\test.pqt\")\n",
    "train.columns, test.columns = [\"userid\", \"productid\", \"timestamp\", \"type\"], [\"userid\", \"productid\", \"timestamp\", \"type\"]\n",
    "train, test = train.sort_values(['userid', \"timestamp\"]).reset_index(drop=True), test.sort_values(['userid', \"timestamp\"]).reset_index(drop=True)\n",
    "\n",
    "timeout = int(5 * 60 * 1e6)  # 5 min timer for session length\n",
    "train[\"new_session\"] = ((train.timestamp.diff() > timeout) | (train.userid.diff() != 0)).astype(\"int\")\n",
    "train[\"session\"] = train.groupby(\"userid\").new_session.cumsum() - 1\n",
    "train = train.drop(\"new_session\", axis=1)\n",
    "train[\"usersession\"] = train.userid.astype(str) + \"_\" + train.session.astype(str)\n",
    "\n",
    "test[\"new_session\"] = ((test.timestamp.diff() > timeout) | (test.userid.diff() != 0)).astype(\"int\")\n",
    "test[\"session\"] = test.groupby(\"userid\").new_session.cumsum() - 1\n",
    "test = test.drop(\"new_session\", axis=1)\n",
    "test[\"usersession\"] = test.userid.astype(str) + \"_\" + test.session.astype(str)"
   ]
  },
  {
   "cell_type": "code",
   "execution_count": null,
   "metadata": {},
   "outputs": [],
   "source": [
    "train.head()"
   ]
  },
  {
   "cell_type": "code",
   "execution_count": null,
   "metadata": {},
   "outputs": [],
   "source": [
    "test.head()"
   ]
  },
  {
   "cell_type": "markdown",
   "metadata": {},
   "source": [
    "# Histograms"
   ]
  },
  {
   "cell_type": "markdown",
   "metadata": {},
   "source": [
    "## Events"
   ]
  },
  {
   "cell_type": "code",
   "execution_count": null,
   "metadata": {},
   "outputs": [],
   "source": [
    "px.bar(train.type.value_counts())"
   ]
  },
  {
   "cell_type": "code",
   "execution_count": null,
   "metadata": {},
   "outputs": [],
   "source": [
    "px.bar(test.type.value_counts())"
   ]
  },
  {
   "cell_type": "markdown",
   "metadata": {},
   "source": [
    "## User ids"
   ]
  },
  {
   "cell_type": "code",
   "execution_count": null,
   "metadata": {},
   "outputs": [],
   "source": [
    "px.scatter(train.userid.value_counts().sort_values(ascending=False).reset_index(drop=True)[:10000])"
   ]
  },
  {
   "cell_type": "markdown",
   "metadata": {},
   "source": [
    "# Product ids"
   ]
  },
  {
   "cell_type": "code",
   "execution_count": null,
   "metadata": {},
   "outputs": [],
   "source": [
    "px.scatter(train.productid.value_counts().sort_values(ascending=False).reset_index(drop=True)[:10000])"
   ]
  },
  {
   "cell_type": "markdown",
   "metadata": {},
   "source": [
    "# Sub Sampling"
   ]
  },
  {
   "cell_type": "code",
   "execution_count": null,
   "metadata": {},
   "outputs": [],
   "source": [
    "sample_size = train.userid.unique().shape[0] / 100\n",
    "sample_sessions = random.sample(list(train.userid.unique()), int(sample_size))\n",
    "trains = train[train.userid.isin(sample_sessions)]\n",
    "trains"
   ]
  },
  {
   "cell_type": "code",
   "execution_count": 10,
   "metadata": {},
   "outputs": [
    {
     "data": {
      "text/plain": [
       "121937    484\n",
       "19203     435\n",
       "14644     420\n",
       "50063     419\n",
       "167754    404\n",
       "         ... \n",
       "88827       2\n",
       "175531      2\n",
       "88632       2\n",
       "175965      2\n",
       "174235      2\n",
       "Name: userid, Length: 2000, dtype: int64"
      ]
     },
     "execution_count": 10,
     "metadata": {},
     "output_type": "execute_result"
    }
   ],
   "source": [
    "trains.userid.value_counts()"
   ]
  },
  {
   "cell_type": "markdown",
   "metadata": {},
   "source": [
    "# Product Association"
   ]
  },
  {
   "cell_type": "code",
   "execution_count": null,
   "metadata": {},
   "outputs": [],
   "source": [
    "visit_matrix = trains.groupby(\"usersession\").productid.value_counts().unstack().fillna(0).T\n",
    "visit_matrix"
   ]
  },
  {
   "cell_type": "code",
   "execution_count": 12,
   "metadata": {},
   "outputs": [],
   "source": [
    "# covisit_matrix = visit_matrix.dot(visit_matrix.T)\n",
    "# covisit_matrix"
   ]
  }
 ],
 "metadata": {
  "kernelspec": {
   "display_name": "Python 3.10.4 ('General')",
   "language": "python",
   "name": "python3"
  },
  "language_info": {
   "codemirror_mode": {
    "name": "ipython",
    "version": 3
   },
   "file_extension": ".py",
   "mimetype": "text/x-python",
   "name": "python",
   "nbconvert_exporter": "python",
   "pygments_lexer": "ipython3",
   "version": "3.10.4"
  },
  "orig_nbformat": 4,
  "vscode": {
   "interpreter": {
    "hash": "9438adab8edfb68a0b62784386ebd3065c382b6a25c27b4c21790ea9f95e3597"
   }
  }
 },
 "nbformat": 4,
 "nbformat_minor": 2
}
