{
 "cells": [
  {
   "cell_type": "markdown",
   "metadata": {},
   "source": [
    "# Notes\n"
   ]
  },
  {
   "cell_type": "markdown",
   "metadata": {},
   "source": [
    "Readme is available at: https://github.com/otto-de/recsys-dataset <br>\n",
    "Kaggle Competition: https://www.kaggle.com/competitions/otto-recommender-system/overview"
   ]
  },
  {
   "cell_type": "markdown",
   "metadata": {},
   "source": [
    "## Competition\n",
    "Goal of competition is to predict clicks, cart additions, and orders"
   ]
  },
  {
   "cell_type": "markdown",
   "metadata": {},
   "source": [
    "### Evaluation Metric\n",
    "![alt text](images/EvaluationMetric.PNG \"Title\")"
   ]
  },
  {
   "cell_type": "markdown",
   "metadata": {},
   "source": [
    "## Data\n",
    "### Otto Dataset\n",
    "Apparently there might be more or updated data released, keep an eye out for that.\n"
   ]
  },
  {
   "cell_type": "markdown",
   "metadata": {},
   "source": [
    "![alt text](images/DataFormat.PNG \"Title\")"
   ]
  },
  {
   "cell_type": "markdown",
   "metadata": {},
   "source": [
    "Format <br>\n",
    "![alt text](images/DataFormat.PNG \"Title\")"
   ]
  }
 ],
 "metadata": {
  "kernelspec": {
   "display_name": "Python 3.10.2 64-bit",
   "language": "python",
   "name": "python3"
  },
  "language_info": {
   "name": "python",
   "version": "3.10.2"
  },
  "orig_nbformat": 4,
  "vscode": {
   "interpreter": {
    "hash": "ed8f4dadaa4896de3c4c7360ee4b9a572ed8dea17509004d35ab86633ca4ec6f"
   }
  }
 },
 "nbformat": 4,
 "nbformat_minor": 2
}
