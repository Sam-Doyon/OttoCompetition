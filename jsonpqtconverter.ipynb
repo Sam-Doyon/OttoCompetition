{
 "cells": [
  {
   "cell_type": "code",
   "execution_count": 1,
   "metadata": {},
   "outputs": [],
   "source": [
    "import pandas as pd\n",
    "import numpy as np\n",
    "import polars as pl\n",
    "import os"
   ]
  },
  {
   "cell_type": "code",
   "execution_count": 2,
   "metadata": {},
   "outputs": [
    {
     "data": {
      "text/plain": [
       "'c:\\\\Users\\\\samdo\\\\Documents\\\\GitHub\\\\OttoCompetition\\\\data\\\\train.jasonl'"
      ]
     },
     "execution_count": 2,
     "metadata": {},
     "output_type": "execute_result"
    }
   ],
   "source": [
    "os.getcwd() + \"\\\\data\\\\train.jasonl\""
   ]
  },
  {
   "cell_type": "code",
   "execution_count": 11,
   "metadata": {},
   "outputs": [],
   "source": [
    "train_sessions = pd.DataFrame()\n",
    "chunks = pd.read_json(os.getcwd() + \"\\\\data\\\\train.jsonl\", lines=True, chunksize=100_000)\n",
    "\n",
    "for e, chunk in enumerate(chunks):\n",
    "    event_dict = {\n",
    "        'session': [],\n",
    "        'aid': [],\n",
    "        'ts': [],\n",
    "        'type': [],\n",
    "    }\n",
    "    if e < 2:\n",
    "        for session, events in zip(chunk['session'].tolist(), chunk['events'].tolist()):\n",
    "            for event in events:\n",
    "                event_dict['session'].append(session)\n",
    "                event_dict['aid'].append(event['aid'])\n",
    "                event_dict['ts'].append(event['ts'])\n",
    "                event_dict['type'].append(event['type'])\n",
    "        chunk_session = pd.DataFrame(event_dict)\n",
    "        train_sessions = pd.concat([train_sessions, chunk_session])\n",
    "    else:\n",
    "        break\n",
    "     \n",
    "train_sessions = train_sessions.reset_index(drop=True)\n",
    "train_sessions.to_parquet(os.getcwd() + \"\\\\data\\\\train.pqt\")"
   ]
  },
  {
   "cell_type": "code",
   "execution_count": 17,
   "metadata": {},
   "outputs": [],
   "source": [
    "test_sessions = pd.DataFrame()\n",
    "chunks = pd.read_json(os.getcwd() + \"\\\\data\\\\test.jsonl\", lines=True, chunksize=100_000)\n",
    "\n",
    "for e, chunk in enumerate(chunks):\n",
    "    event_dict = {\n",
    "        'session': [],\n",
    "        'aid': [],\n",
    "        'ts': [],\n",
    "        'type': [],\n",
    "    }\n",
    "    if e < 2:\n",
    "        for session, events in zip(chunk['session'].tolist(), chunk['events'].tolist()):\n",
    "            for event in events:\n",
    "                event_dict['session'].append(session)\n",
    "                event_dict['aid'].append(event['aid'])\n",
    "                event_dict['ts'].append(event['ts'])\n",
    "                event_dict['type'].append(event['type'])\n",
    "        chunk_session = pd.DataFrame(event_dict)\n",
    "        test_sessions = pd.concat([test_sessions, chunk_session])\n",
    "    else:\n",
    "        break\n",
    "     \n",
    "test_sessions = test_sessions.reset_index(drop=True)\n",
    "test_sessions.to_parquet(os.getcwd() + \"\\\\data\\\\test.pqt\")"
   ]
  },
  {
   "cell_type": "code",
   "execution_count": null,
   "metadata": {},
   "outputs": [],
   "source": [
    "test_sessions"
   ]
  }
 ],
 "metadata": {
  "kernelspec": {
   "display_name": "Python 3.10.4 ('General')",
   "language": "python",
   "name": "python3"
  },
  "language_info": {
   "codemirror_mode": {
    "name": "ipython",
    "version": 3
   },
   "file_extension": ".py",
   "mimetype": "text/x-python",
   "name": "python",
   "nbconvert_exporter": "python",
   "pygments_lexer": "ipython3",
   "version": "3.10.4"
  },
  "orig_nbformat": 4,
  "vscode": {
   "interpreter": {
    "hash": "9438adab8edfb68a0b62784386ebd3065c382b6a25c27b4c21790ea9f95e3597"
   }
  }
 },
 "nbformat": 4,
 "nbformat_minor": 2
}
